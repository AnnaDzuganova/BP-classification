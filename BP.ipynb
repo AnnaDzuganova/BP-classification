{
 "cells": [
  {
   "cell_type": "code",
   "execution_count": 1,
   "metadata": {},
   "outputs": [],
   "source": [
    "import matplotlib.pyplot as plt\n",
    "%matplotlib inline\n",
    "import numpy as np\n",
    "import pandas as pd\n",
    "import seaborn as sns\n",
    "from PIL import Image \n",
    "import os\n",
    "import random\n",
    "import cv2\n",
    "\n",
    "import tensorflow as tf\n",
    "import keras \n",
    "from sklearn.model_selection import train_test_split \n",
    "from tensorflow.keras import utils\n",
    "from keras.models import Sequential\n",
    "from keras.layers import Conv2D, MaxPooling2D, Flatten, Dropout, Dense\n",
    "from keras.callbacks import ModelCheckpoint\n",
    "from keras.layers import Flatten, BatchNormalization, GlobalAveragePooling2D, MaxPool2D\n",
    "from tensorflow.keras.optimizers import Adam"
   ]
  },
  {
   "cell_type": "markdown",
   "metadata": {},
   "source": [
    "Predspracovanie"
   ]
  },
  {
   "cell_type": "code",
   "execution_count": 2,
   "metadata": {},
   "outputs": [],
   "source": [
    "Ycat = []\n",
    "Ybin = []\n",
    "labels = ['Normal', 'Lung_Opacity','Viral_Pneumonia','Tuberculosis','COVID']\n",
    "#normal = 0, LO = 1, VP = 2, Tuberculosis = 3, COVID = 4\n",
    "size = 256\n",
    "\n",
    "def get_data(folder, Ycat, Ybin):\n",
    "    x = 0\n",
    "    data = []\n",
    "    for label in labels: \n",
    "        path = os.path.join(folder, label)\n",
    "        for images in os.listdir(path):\n",
    "            img = cv2.imread(os.path.join(folder,label, images))[...,::-1]\n",
    "            img = cv2.resize(img, (size, size))\n",
    "            img = img.astype('float16')\n",
    "            img /= 255\n",
    "            data.append(img)\n",
    "            category = np.zeros(5)\n",
    "            category[x] = 1\n",
    "            Ycat.append(category)\n",
    "            if label == 'COVID':\n",
    "                Ybin.append(1)\n",
    "            else:\n",
    "                Ybin.append(0)\n",
    "        x = x + 1\n",
    "    return data"
   ]
  },
  {
   "cell_type": "code",
   "execution_count": 3,
   "metadata": {},
   "outputs": [],
   "source": [
    "Xdata = get_data('',Ycat, Ybin)"
   ]
  },
  {
   "cell_type": "code",
   "execution_count": 4,
   "metadata": {},
   "outputs": [],
   "source": [
    "#Xdata = Xdata.sample(n=len(Xdata), random_state=1242)\n",
    "#Ycat = Ycat.sample(n=len(Ycat), random_state=1242)\n",
    "random.seed(151)\n",
    "Xdata = random.sample(Xdata,len(Xdata))#3600)\n",
    "random.seed(151)\n",
    "Ycat=random.sample(Ycat,len(Ycat))#3600)\n",
    "random.seed(151)\n",
    "Ybin=random.sample(Ybin,len(Ybin))#3600)\n",
    "X = np.array(Xdata)\n",
    "Ycat = np.array(Ycat)\n",
    "Ybin = np.array(Ybin)"
   ]
  },
  {
   "cell_type": "markdown",
   "metadata": {},
   "source": [
    "Binary"
   ]
  },
  {
   "cell_type": "code",
   "execution_count": 5,
   "metadata": {},
   "outputs": [],
   "source": [
    "xBin_train, xBin_test, yBin_train, yBin_test = train_test_split(X, Ybin, test_size=0.3, random_state=1)"
   ]
  },
  {
   "cell_type": "code",
   "execution_count": 6,
   "metadata": {},
   "outputs": [
    {
     "name": "stdout",
     "output_type": "stream",
     "text": [
      "Model: \"sequential\"\n",
      "_________________________________________________________________\n",
      " Layer (type)                Output Shape              Param #   \n",
      "=================================================================\n",
      " conv2d (Conv2D)             (None, 256, 256, 32)      896       \n",
      "                                                                 \n",
      " max_pooling2d (MaxPooling2D  (None, 128, 128, 32)     0         \n",
      " )                                                               \n",
      "                                                                 \n",
      " conv2d_1 (Conv2D)           (None, 128, 128, 32)      9248      \n",
      "                                                                 \n",
      " max_pooling2d_1 (MaxPooling  (None, 64, 64, 32)       0         \n",
      " 2D)                                                             \n",
      "                                                                 \n",
      " dropout (Dropout)           (None, 64, 64, 32)        0         \n",
      "                                                                 \n",
      " flatten (Flatten)           (None, 131072)            0         \n",
      "                                                                 \n",
      " dense (Dense)               (None, 128)               16777344  \n",
      "                                                                 \n",
      " dense_1 (Dense)             (None, 1)                 129       \n",
      "                                                                 \n",
      "=================================================================\n",
      "Total params: 16,787,617\n",
      "Trainable params: 16,787,617\n",
      "Non-trainable params: 0\n",
      "_________________________________________________________________\n"
     ]
    }
   ],
   "source": [
    "model = Sequential()\n",
    "\n",
    "model.add(Conv2D(32,3,padding=\"same\", activation=\"relu\", input_shape=(256,256,3)))\n",
    "model.add(MaxPool2D())\n",
    "\n",
    "model.add(Conv2D(32,3,padding=\"same\", activation=\"relu\"))\n",
    "model.add(MaxPool2D())\n",
    "model.add(Dropout(0.2))\n",
    "\n",
    "model.add(Flatten())\n",
    "model.add(Dense(128,activation=\"relu\"))\n",
    "model.add(Dense(1, activation=\"sigmoid\"))\n",
    "\n",
    "model.summary() "
   ]
  },
  {
   "cell_type": "code",
   "execution_count": null,
   "metadata": {},
   "outputs": [],
   "source": [
    "model = Sequential()\n",
    "model.add(Conv2D(32,3,padding=\"same\", activation=\"relu\", input_shape=(256,256,3)))\n",
    "model.add(MaxPool2D())\n",
    "\n",
    "model.add(Conv2D(32, 3, padding=\"same\", activation=\"relu\"))\n",
    "model.add(MaxPool2D())\n",
    "\n",
    "model.add(Conv2D(64, 3, padding=\"same\", activation=\"relu\"))\n",
    "model.add(MaxPool2D())\n",
    "model.add(Dropout(0.4))\n",
    "\n",
    "model.add(Flatten())\n",
    "model.add(Dense(128,activation=\"relu\"))\n",
    "model.add(Dense(1, activation=\"sigmoid\"))\n",
    "\n",
    "model.summary()"
   ]
  },
  {
   "cell_type": "code",
   "execution_count": 7,
   "metadata": {},
   "outputs": [],
   "source": [
    "adam = Adam()\n",
    "model.compile(optimizer='Adam', loss='binary_crossentropy', metrics=['accuracy'])\n",
    "#model.compile(optimizer='Adam', loss='categorical_crossentropy', metrics=['accuracy'])\n",
    "#model.compile(loss=tf.keras.losses.SparseCategoricalCrossentropy(from_logits=True), optimizer=adam, metrics=['accuracy'])"
   ]
  },
  {
   "cell_type": "code",
   "execution_count": 8,
   "metadata": {},
   "outputs": [],
   "source": [
    "#checkpoint = ModelCheckpoint('model.h5', monitor='val_loss', save_best_only=True, verbose=1)\n",
    "checkpoint = ModelCheckpoint('model.h5', monitor='val_loss', save_best_only=True, verbose=1, mode='min')"
   ]
  },
  {
   "cell_type": "code",
   "execution_count": null,
   "metadata": {
    "scrolled": true
   },
   "outputs": [
    {
     "name": "stdout",
     "output_type": "stream",
     "text": [
      "Epoch 1/16\n",
      "240/240 [==============================] - 636s 3s/step - loss: 0.4153 - accuracy: 0.8710 - val_loss: 0.3792 - val_accuracy: 0.8649\n",
      "Epoch 2/16\n",
      "240/240 [==============================] - 555s 2s/step - loss: 0.2079 - accuracy: 0.9183 - val_loss: 0.1968 - val_accuracy: 0.9302\n",
      "Epoch 3/16\n",
      "240/240 [==============================] - 574s 2s/step - loss: 0.1634 - accuracy: 0.9368 - val_loss: 0.1983 - val_accuracy: 0.9248\n",
      "Epoch 4/16\n",
      "240/240 [==============================] - 576s 2s/step - loss: 0.1168 - accuracy: 0.9564 - val_loss: 0.1621 - val_accuracy: 0.9418\n",
      "Epoch 5/16\n",
      "240/240 [==============================] - 593s 2s/step - loss: 0.0852 - accuracy: 0.9680 - val_loss: 0.1946 - val_accuracy: 0.9409\n",
      "Epoch 6/16\n",
      "240/240 [==============================] - 573s 2s/step - loss: 0.0943 - accuracy: 0.9645 - val_loss: 0.1630 - val_accuracy: 0.9483\n",
      "Epoch 7/16\n",
      "240/240 [==============================] - 566s 2s/step - loss: 0.0597 - accuracy: 0.9780 - val_loss: 0.1396 - val_accuracy: 0.9563\n",
      "Epoch 8/16\n",
      "240/240 [==============================] - 572s 2s/step - loss: 0.0436 - accuracy: 0.9845 - val_loss: 0.1498 - val_accuracy: 0.9575\n",
      "Epoch 9/16\n",
      " 83/240 [=========>....................] - ETA: 5:41 - loss: 0.0240 - accuracy: 0.9923"
     ]
    }
   ],
   "source": [
    "history = model.fit(xBin_train, yBin_train,epochs=16, batch_size = 64, validation_data=(xBin_test, yBin_test))#,callbacks=[checkpoint])"
   ]
  },
  {
   "cell_type": "code",
   "execution_count": 18,
   "metadata": {},
   "outputs": [
    {
     "data": {
      "image/png": "[encoded data removed]",
      "text/plain": [
       "<Figure size 1152x1152 with 2 Axes>"
      ]
     },
     "metadata": {
      "needs_background": "light"
     },
     "output_type": "display_data"
    }
   ],
   "source": [
    "acc = history.history['accuracy']\n",
    "val_acc = history.history['val_accuracy']\n",
    "loss = history.history['loss']\n",
    "val_loss = history.history['val_loss']\n",
    "\n",
    "epochs_range = range(16)\n",
    "\n",
    "plt.figure(figsize=(16, 16))\n",
    "plt.subplot(2, 2, 1)\n",
    "plt.plot(epochs_range, acc, label='Training Accuracy')\n",
    "plt.plot(epochs_range, val_acc, label='Validation Accuracy')\n",
    "plt.legend(loc='lower right')\n",
    "plt.title('Training and Validation Accuracy')\n",
    "\n",
    "plt.subplot(2, 2, 2)\n",
    "plt.plot(epochs_range, loss, label='Training Loss')\n",
    "plt.plot(epochs_range, val_loss, label='Validation Loss')\n",
    "plt.legend(loc='upper right')\n",
    "plt.title('Training and Validation Loss')\n",
    "plt.show()"
   ]
  },
  {
   "cell_type": "code",
   "execution_count": 19,
   "metadata": {},
   "outputs": [],
   "source": [
    "from sklearn.metrics import classification_report,confusion_matrix\n",
    "\n",
    "predictions = model.predict(xBin_test)\n",
    "#predictions = model.predict(xBin_test)\n",
    "#predictions = predictions.reshape(1,-1)[0]"
   ]
  },
  {
   "cell_type": "code",
   "execution_count": 20,
   "metadata": {},
   "outputs": [],
   "source": [
    "pred = [int(round(x[0])) for x in predictions]"
   ]
  },
  {
   "cell_type": "code",
   "execution_count": 21,
   "metadata": {},
   "outputs": [
    {
     "name": "stdout",
     "output_type": "stream",
     "text": [
      "(6560,)\n"
     ]
    }
   ],
   "source": [
    "print(yBin_test.shape)"
   ]
  },
  {
   "cell_type": "code",
   "execution_count": 22,
   "metadata": {},
   "outputs": [
    {
     "name": "stdout",
     "output_type": "stream",
     "text": [
      "                     precision    recall  f1-score   support\n",
      "\n",
      "Non-COVID (Class 0)       0.97      0.96      0.97      5449\n",
      "    COVID (Class 1)       0.82      0.86      0.84      1111\n",
      "\n",
      "           accuracy                           0.94      6560\n",
      "          macro avg       0.90      0.91      0.90      6560\n",
      "       weighted avg       0.95      0.94      0.94      6560\n",
      "\n"
     ]
    }
   ],
   "source": [
    "print(classification_report(yBin_test, pred, target_names = ['Non-COVID (Class 0)','COVID (Class 1)']))"
   ]
  },
  {
   "cell_type": "code",
   "execution_count": 23,
   "metadata": {},
   "outputs": [
    {
     "name": "stdout",
     "output_type": "stream",
     "text": [
      "Confusion matrix : \n",
      "\n",
      "[[5239  210]\n",
      " [ 155  956]]\n"
     ]
    }
   ],
   "source": [
    "print('Confusion matrix : \\n')\n",
    "print(confusion_matrix(yBin_test, pred)) #(actual, predicted)"
   ]
  },
  {
   "cell_type": "markdown",
   "metadata": {},
   "source": [
    "Categorical"
   ]
  },
  {
   "cell_type": "code",
   "execution_count": 5,
   "metadata": {},
   "outputs": [],
   "source": [
    "xCat_train, xCat_test, yCat_train, yCat_test = train_test_split(X, Ycat, test_size=0.3, random_state=1)"
   ]
  },
  {
   "cell_type": "code",
   "execution_count": 6,
   "metadata": {},
   "outputs": [
    {
     "name": "stdout",
     "output_type": "stream",
     "text": [
      "Model: \"sequential\"\n",
      "_________________________________________________________________\n",
      " Layer (type)                Output Shape              Param #   \n",
      "=================================================================\n",
      " conv2d (Conv2D)             (None, 254, 254, 32)      896       \n",
      "                                                                 \n",
      " flatten (Flatten)           (None, 2064512)           0         \n",
      "                                                                 \n",
      " dense (Dense)               (None, 128)               264257664 \n",
      "                                                                 \n",
      " dense_1 (Dense)             (None, 5)                 645       \n",
      "                                                                 \n",
      "=================================================================\n",
      "Total params: 264,259,205\n",
      "Trainable params: 264,259,205\n",
      "Non-trainable params: 0\n",
      "_________________________________________________________________\n"
     ]
    }
   ],
   "source": [
    "Categorical_model = Sequential()\n",
    "\n",
    "Categorical_model.add(Conv2D(32, kernel_size=(3,3), activation='relu', input_shape=(256,256,3)))\n",
    "\n",
    "#model.add(MaxPooling2D(pool_size=(2,2)))\n",
    "#model.add(Dropout(0.25))\n",
    "\n",
    "Categorical_model.add(Flatten())\n",
    "Categorical_model.add(Dense(128, activation='relu'))\n",
    "Categorical_model.add(Dense(5, activation='softmax'))\n",
    "\n",
    "Categorical_model.summary()"
   ]
  },
  {
   "cell_type": "code",
   "execution_count": 7,
   "metadata": {},
   "outputs": [],
   "source": [
    "adam = Adam()\n",
    "#Categorical_model.compile(loss=tf.keras.losses.SparseCategoricalCrossentropy(from_logits=True), optimizer=adam, metrics=['accuracy'])\n",
    "Categorical_model.compile(loss='categorical_crossentropy', optimizer=adam, metrics=['accuracy'])"
   ]
  },
  {
   "cell_type": "code",
   "execution_count": 8,
   "metadata": {},
   "outputs": [
    {
     "name": "stdout",
     "output_type": "stream",
     "text": [
      "Epoch 1/3\n",
      "479/479 [==============================] - 1234s 3s/step - loss: 6.4802 - accuracy: 0.7030 - val_loss: 0.5850 - val_accuracy: 0.7887\n",
      "Epoch 2/3\n",
      "479/479 [==============================] - 1195s 2s/step - loss: 0.4549 - accuracy: 0.8333 - val_loss: 0.5316 - val_accuracy: 0.8058\n",
      "Epoch 3/3\n",
      "479/479 [==============================] - 1189s 2s/step - loss: 0.2924 - accuracy: 0.9017 - val_loss: 0.5916 - val_accuracy: 0.8078\n"
     ]
    }
   ],
   "source": [
    "f = Categorical_model.fit(xCat_train, yCat_train, epochs = 3, validation_data=(xCat_test, yCat_test))"
   ]
  },
  {
   "cell_type": "code",
   "execution_count": 9,
   "metadata": {},
   "outputs": [
    {
     "data": {
      "image/png": "[encoded data removed]",
      "text/plain": [
       "<Figure size 1080x1080 with 2 Axes>"
      ]
     },
     "metadata": {
      "needs_background": "light"
     },
     "output_type": "display_data"
    }
   ],
   "source": [
    "acc = f.history['accuracy']\n",
    "val_acc = f.history['val_accuracy']\n",
    "loss = f.history['loss']\n",
    "val_loss = f.history['val_loss']\n",
    "\n",
    "epochs_range = range(3)\n",
    "\n",
    "plt.figure(figsize=(15, 15))\n",
    "plt.subplot(2, 2, 1)\n",
    "plt.plot(epochs_range, acc, label='Training Accuracy')\n",
    "plt.plot(epochs_range, val_acc, label='Validation Accuracy')\n",
    "plt.legend(loc='lower right')\n",
    "plt.title('Training and Validation Accuracy')\n",
    "\n",
    "plt.subplot(2, 2, 2)\n",
    "plt.plot(epochs_range, loss, label='Training Loss')\n",
    "plt.plot(epochs_range, val_loss, label='Validation Loss')\n",
    "plt.legend(loc='upper right')\n",
    "plt.title('Training and Validation Loss')\n",
    "plt.show()"
   ]
  },
  {
   "cell_type": "code",
   "execution_count": 10,
   "metadata": {},
   "outputs": [],
   "source": [
    "from sklearn.metrics import classification_report,confusion_matrix\n",
    "\n",
    "predictions = Categorical_model.predict(xCat_test)\n",
    "predicted = np.argmax(predictions, axis = 1)\n",
    "yCat_test=np.argmax(yCat_test, axis=1)"
   ]
  },
  {
   "cell_type": "code",
   "execution_count": 27,
   "metadata": {},
   "outputs": [
    {
     "name": "stdout",
     "output_type": "stream",
     "text": [
      "(6560,)\n"
     ]
    }
   ],
   "source": [
    "print(predicted.shape)"
   ]
  },
  {
   "cell_type": "code",
   "execution_count": 11,
   "metadata": {},
   "outputs": [
    {
     "name": "stdout",
     "output_type": "stream",
     "text": [
      "col_0     0     1    2    3    4\n",
      "row_0                           \n",
      "0      2821   168   43    3   37\n",
      "1       571  1104    4    0   74\n",
      "2        19     7  372    0    6\n",
      "3        30     9    2  150   29\n",
      "4       182    66   10    1  852\n"
     ]
    }
   ],
   "source": [
    "#print(pd.crosstab(y_test, predicted))\n",
    "print(pd.crosstab(yCat_test, predicted))"
   ]
  },
  {
   "cell_type": "code",
   "execution_count": 12,
   "metadata": {},
   "outputs": [
    {
     "name": "stdout",
     "output_type": "stream",
     "text": [
      "              precision    recall  f1-score   support\n",
      "\n",
      "           0       0.78      0.92      0.84      3072\n",
      "           1       0.82      0.63      0.71      1753\n",
      "           2       0.86      0.92      0.89       404\n",
      "           3       0.97      0.68      0.80       220\n",
      "           4       0.85      0.77      0.81      1111\n",
      "\n",
      "    accuracy                           0.81      6560\n",
      "   macro avg       0.86      0.78      0.81      6560\n",
      "weighted avg       0.81      0.81      0.80      6560\n",
      "\n"
     ]
    }
   ],
   "source": [
    "print(classification_report(yCat_test, predicted))"
   ]
  },
  {
   "cell_type": "code",
   "execution_count": null,
   "metadata": {},
   "outputs": [],
   "source": []
  }
 ],
 "metadata": {
  "kernelspec": {
   "display_name": "Python 3",
   "language": "python",
   "name": "python3"
  },
  "language_info": {
   "codemirror_mode": {
    "name": "ipython",
    "version": 3
   },
   "file_extension": ".py",
   "mimetype": "text/x-python",
   "name": "python",
   "nbconvert_exporter": "python",
   "pygments_lexer": "ipython3",
   "version": "3.8.5"
  }
 },
 "nbformat": 4,
 "nbformat_minor": 4
}
