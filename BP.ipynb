{
 "cells": [
  {
   "cell_type": "code",
   "execution_count": null,
   "metadata": {},
   "outputs": [],
   "source": [
    "import matplotlib.pyplot as plt\n",
    "%matplotlib inline\n",
    "import numpy as np\n",
    "import pandas as pd\n",
    "import seaborn as sns\n",
    "from PIL import Image \n",
    "import os\n",
    "import random\n",
    "import cv2\n",
    "\n",
    "import tensorflow as tf\n",
    "import keras \n",
    "from sklearn.model_selection import train_test_split \n",
    "from tensorflow.keras import utils\n",
    "from keras.models import Sequential\n",
    "from keras.layers import Conv2D, MaxPooling2D, Flatten, Dropout, Dense\n",
    "from keras.callbacks import ModelCheckpoint\n",
    "from keras.layers import Flatten, BatchNormalization, GlobalAveragePooling2D, MaxPool2D\n",
    "from tensorflow.keras.optimizers import Adam\n",
    "from sklearn.metrics import accuracy_score\n",
    "from sklearn.metrics import classification_report,confusion_matrix"
   ]
  },
  {
   "cell_type": "code",
   "execution_count": null,
   "metadata": {},
   "outputs": [],
   "source": [
    "read_file = pd.read_excel(r'C:\\Users\\anndz\\Desktop\\BP\\COVID.metadata.xlsx')\n",
    "read_file.to_csv(r'C:\\Users\\anndz\\Desktop\\BP\\COVID.metadata.csv', index = None, header=True)\n",
    "COVID = read_file\n",
    "\n",
    "read_file = pd.read_excel(r'C:\\Users\\anndz\\Desktop\\BP\\Normal.metadata.xlsx')\n",
    "read_file.to_csv(r'C:\\Users\\anndz\\Desktop\\BP\\Normal.metadata.csv', index = None, header=True)\n",
    "Normal = read_file\n",
    "\n",
    "read_file = pd.read_excel(r'C:\\Users\\anndz\\Desktop\\BP\\Lung_Opacity.metadata.csv')\n",
    "read_file.to_csv(r'C:\\Users\\anndz\\Desktop\\BP\\Lung_Opacity.metadata.csv', index = None, header=True)\n",
    "Lung_opacity = read_file\n",
    "\n",
    "read_file = pd.read_excel(r'C:\\Users\\anndz\\Desktop\\BP\\Viral Pneumonia.metadata.xlsx')\n",
    "read_file.to_csv(r'C:\\Users\\anndz\\Desktop\\BP\\Viral Pneumonia.metadata.csv', index = None, header=True)\n",
    "Viral_Pneumonia = read_file\n",
    "\n",
    "read_file = pd.read_excel(r'C:\\Users\\anndz\\Desktop\\BP\\Tuberculosis.metadata.xlsx')\n",
    "read_file.to_csv(r'C:\\Users\\anndz\\Desktop\\BP\\Tuberculosis.metadata.csv', index = None, header=True)\n",
    "Tuberculosis = read_file"
   ]
  },
  {
   "cell_type": "markdown",
   "metadata": {},
   "source": [
    "Analyza"
   ]
  },
  {
   "cell_type": "code",
   "execution_count": null,
   "metadata": {},
   "outputs": [],
   "source": [
    "Normal = pd.read_csv(\"Normal.metadata.csv\")\n",
    "COVID = pd.read_csv(\"COVID.metadata.csv\")\n",
    "Lung_opacity = pd.read_csv(\"Lung_Opacity.metadata.csv\")\n",
    "Pneumonia = pd.read_csv(\"Viral Pneumonia.metadata.csv\")\n",
    "Tuberculosis = pd.read_csv(\"Tuberculosis.metadata.csv\")\n",
    "\n",
    "Normal['Diagnoza'] = '0'\n",
    "Normal['COVID'] = '0'\n",
    "COVID['Diagnoza'] = '4'\n",
    "COVID['COVID'] = '1'\n",
    "Lung_opacity['Diagnoza'] = '1'\n",
    "Lung_opacity['COVID'] = '0'\n",
    "Pneumonia['Diagnoza'] = '2'\n",
    "Pneumonia['COVID'] = '0'\n",
    "Tuberculosis['Diagnoza'] = '3'\n",
    "Tuberculosis['COVID'] = '0'\n",
    "Tuberculosis['SIZE'] = '256*256'\n",
    "\n",
    "data = pd.concat([Normal,COVID,Lung_opacity,Pneumonia,Tuberculosis])\n",
    "data['Diagnoza']= data['Diagnoza'].astype(object)\n",
    "data['COVID']= data['COVID'].astype(object)"
   ]
  },
  {
   "cell_type": "code",
   "execution_count": null,
   "metadata": {},
   "outputs": [],
   "source": [
    "V = data['Diagnoza'].value_counts().index.tolist()\n",
    "VC = data['Diagnoza'].value_counts()\n",
    "sns.barplot(x= V, y = VC)"
   ]
  },
  {
   "cell_type": "code",
   "execution_count": null,
   "metadata": {},
   "outputs": [],
   "source": [
    "V = data['COVID'].value_counts().index.tolist()\n",
    "VC = data['COVID'].value_counts()\n",
    "sns.barplot(x= V, y = VC)"
   ]
  },
  {
   "cell_type": "markdown",
   "metadata": {},
   "source": [
    "Rozdelenie dát na trénovaciu a testovaciu množinu"
   ]
  },
  {
   "cell_type": "code",
   "execution_count": null,
   "metadata": {},
   "outputs": [],
   "source": [
    "def read_data(folder,label):\n",
    "    x = 0\n",
    "    data = []\n",
    "    path = os.path.join(folder, label)\n",
    "    for images in os.listdir(path):\n",
    "        img = cv2.imread(os.path.join(folder,label, images))[...,::-1]\n",
    "        data.append(img)\n",
    "    return data"
   ]
  },
  {
   "cell_type": "code",
   "execution_count": null,
   "metadata": {},
   "outputs": [],
   "source": [
    "XCOV = read_data('','COVID')\n",
    "xCOV_train, xCOV_test = train_test_split(XCOV, test_size=0.3, random_state=1)\n",
    "\n",
    "for i in range(len(xCOV_test)):\n",
    "    cv2.imwrite(r\"C:\\Users\\anndz\\Desktop\\BP\\COVID_test\\COVID_test_%d.png\" % i, xCOV_test[i])\n",
    "\n",
    "for k in range(len(xCOV_train)):\n",
    "    cv2.imwrite(r\"C:\\Users\\anndz\\Desktop\\BP\\COVID_train\\COVID_train_%d.png\" % k, xCOV_train[k])"
   ]
  },
  {
   "cell_type": "code",
   "execution_count": null,
   "metadata": {},
   "outputs": [],
   "source": [
    "X_LO = read_data('','Lung_Opacity')\n",
    "xLO_train, xLO_test = train_test_split(X_LO, test_size=0.3, random_state=1)\n",
    "\n",
    "for i in range(len(xLO_test)):\n",
    "    cv2.imwrite(r\"C:\\Users\\anndz\\Desktop\\BP\\Lung_Opacity_test\\Lung_Opacity_test_%d.png\" % i, xLO_test[i])\n",
    "\n",
    "for k in range(len(xLO_train)):\n",
    "    cv2.imwrite(r\"C:\\Users\\anndz\\Desktop\\BP\\Lung_Opacity_train\\Lung_Opacity_train_%d.png\" % k, xLO_train[k])"
   ]
  },
  {
   "cell_type": "code",
   "execution_count": null,
   "metadata": {},
   "outputs": [],
   "source": [
    "X_VP = read_data('','Viral_Pneumonia')\n",
    "xVP_train, xVP_test = train_test_split(X_VP, test_size=0.3, random_state=1)\n",
    "\n",
    "for i in range(len(xVP_test)):\n",
    "    cv2.imwrite(r\"C:\\Users\\anndz\\Desktop\\BP\\Viral_Pneumonia_test\\Viral_Pneumonia_test_%d.png\" % i, xVP_test[i])\n",
    "\n",
    "for k in range(len(xVP_train)):\n",
    "    cv2.imwrite(r\"C:\\Users\\anndz\\Desktop\\BP\\Viral_Pneumonia_train\\Viral_Pneumonia_train_%d.png\" % k, xVP_train[k])"
   ]
  },
  {
   "cell_type": "code",
   "execution_count": null,
   "metadata": {},
   "outputs": [],
   "source": [
    "X_TB = read_data('','Tuberculosis')\n",
    "xTB_train, xTB_test = train_test_split(X_TB, test_size=0.3, random_state=1)\n",
    "\n",
    "for i in range(len(xTB_test)):\n",
    "    cv2.imwrite(r\"C:\\Users\\anndz\\Desktop\\BP\\Tuberculosis_test\\Tuberculosis_test_%d.png\" % i, xTB_test[i])\n",
    "\n",
    "for k in range(len(xTB_train)):\n",
    "    cv2.imwrite(r\"C:\\Users\\anndz\\Desktop\\BP\\Tuberculosis_train\\Tuberculosis_train_%d.png\" % k, xTB_train[k])"
   ]
  },
  {
   "cell_type": "code",
   "execution_count": null,
   "metadata": {},
   "outputs": [],
   "source": [
    "X_Normal = read_data('','Normal')\n",
    "xNormal_train, xNormal_test = train_test_split(X_Normal, test_size=0.3, random_state=1)\n",
    "\n",
    "for i in range(len(xNormal_test)):\n",
    "    cv2.imwrite(r\"C:\\Users\\anndz\\Desktop\\BP\\Normal_test\\Normal_test_%d.png\" % i, xNormal_test[i])\n",
    "\n",
    "for k in range(len(xNormal_train)):\n",
    "    cv2.imwrite(r\"C:\\Users\\anndz\\Desktop\\BP\\Normal_train\\Normal_train_%d.png\" % k, xNormal_train[k])"
   ]
  },
  {
   "cell_type": "markdown",
   "metadata": {},
   "source": [
    "Augumentácia dát"
   ]
  },
  {
   "cell_type": "code",
   "execution_count": null,
   "metadata": {},
   "outputs": [],
   "source": [
    "datagen = ImageDataGenerator(\n",
    "        rotation_range=25,\n",
    "        height_shift_range=0.1,\n",
    "        width_shift_range=0.1,\n",
    "        shear_range=0.1,\n",
    "        zoom_range=0.1,\n",
    "        horizontal_flip=True,\n",
    "        fill_mode='nearest')\n",
    "i = 0\n",
    "for batch in datagen.flow_from_directory(r'C:\\Users\\anndz\\Desktop\\BP\\COVID_resized', batch_size=1024,target_size=(256,256),\n",
    "                          save_to_dir=r'C:\\Users\\anndz\\Desktop\\BP\\COVID_aug', save_format='png'):\n",
    "    i += 1\n",
    "    if i > 7:\n",
    "        break"
   ]
  },
  {
   "cell_type": "code",
   "execution_count": null,
   "metadata": {},
   "outputs": [],
   "source": [
    "i = 0\n",
    "for batch in datagen.flow_from_directory(r'C:\\Users\\anndz\\Desktop\\BP\\Tuberculosis_resized', batch_size=490,target_size=(256,256),\n",
    "                          save_to_dir=r'C:\\Users\\anndz\\Desktop\\BP\\Tuberculosis_aug', save_format='png'):\n",
    "    i += 1\n",
    "    if i > 14:\n",
    "        break"
   ]
  },
  {
   "cell_type": "code",
   "execution_count": null,
   "metadata": {},
   "outputs": [],
   "source": [
    "i = 0\n",
    "for batch in datagen.flow_from_directory(r'C:\\Users\\anndz\\Desktop\\BP\\Viral_Pneumonia_resized', batch_size=941,target_size=(256,256),\n",
    "                          save_to_dir=r'C:\\Users\\anndz\\Desktop\\BP\\Viral_Pneumonia_aug', save_format='png'):\n",
    "    i += 1\n",
    "    if i > 8:\n",
    "        break"
   ]
  },
  {
   "cell_type": "code",
   "execution_count": null,
   "metadata": {},
   "outputs": [],
   "source": [
    "i = 0\n",
    "for batch in datagen.flow_from_directory(r'C:\\Users\\anndz\\Desktop\\BP\\Lung_Opacity_resized', batch_size=1024,target_size=(256,256),\n",
    "                          save_to_dir=r'C:\\Users\\anndz\\Desktop\\BP\\Lung_Opacity_aug', save_format='png'):\n",
    "    i += 1\n",
    "    if i > 3:\n",
    "        break"
   ]
  },
  {
   "cell_type": "markdown",
   "metadata": {},
   "source": [
    "Predspracovanie"
   ]
  },
  {
   "cell_type": "code",
   "execution_count": null,
   "metadata": {},
   "outputs": [],
   "source": [
    "Ycat_train = []\n",
    "Ybin_train = []\n",
    "train_labels = ['Normal_train', 'Lung_Opacity_train','Viral_Pneumonia_train','Tuberculosis_train','COVID_resized']\n",
    "#train_labels = ['Normal_train', 'Lung_Opacity_resized','Viral_Pneumonia_resized','Tuberculosis_resized','COVID_resized']\n",
    "#normal = 0, LO = 1, VP = 2, Tuberculosis = 3, COVID = 4\n",
    "size = 256\n",
    "\n",
    "def get_trainData(folder, Ycat_train, Ybin_train):\n",
    "    x = 0\n",
    "    data = []\n",
    "    for label in train_labels: \n",
    "        path = os.path.join(folder, label)\n",
    "        for images in os.listdir(path):\n",
    "            img = cv2.imread(os.path.join(folder,label, images))[...,::-1]\n",
    "            img = cv2.resize(img, (size, size))\n",
    "            img = img.astype('float16')\n",
    "            img /= 255\n",
    "            data.append(img)\n",
    "            category = np.zeros(5)\n",
    "            category[x] = 1\n",
    "            Ycat_train.append(category)\n",
    "            if (label == 'COVID_resized'):\n",
    "                Ybin_train.append(1)\n",
    "            else:\n",
    "                Ybin_train.append(0)\n",
    "        x = x + 1\n",
    "    return data"
   ]
  },
  {
   "cell_type": "code",
   "execution_count": null,
   "metadata": {},
   "outputs": [],
   "source": [
    "Xdata_train = get_trainData('',Ycat_train, Ybin_train)\n",
    "random.seed(151)\n",
    "Xdata_train = random.sample(Xdata_train,len(Xdata_train))\n",
    "random.seed(151)\n",
    "Ycat_train=random.sample(Ycat_train,len(Ycat_train))\n",
    "random.seed(151)\n",
    "Ybin_train=random.sample(Ybin_train,len(Ybin_train))\n",
    "X_train = np.array(Xdata_train)\n",
    "Ycat_train = np.array(Ycat_train)\n",
    "Ybin_train = np.array(Ybin_train)"
   ]
  },
  {
   "cell_type": "code",
   "execution_count": null,
   "metadata": {},
   "outputs": [],
   "source": [
    "Ycat_test = []\n",
    "Ybin_test = []\n",
    "test_labels = ['Normal_test', 'Lung_Opacity_test','Viral_Pneumonia_test','Tuberculosis_test','COVID_test']\n",
    "#normal = 0, LO = 1, VP = 2, Tuberculosis = 3, COVID = 4\n",
    "size = 256\n",
    "\n",
    "def get_testData(folder, Ycat_test, Ybin_test):\n",
    "    x = 0\n",
    "    data = []\n",
    "    for label in test_labels: \n",
    "        path = os.path.join(folder, label)\n",
    "        for images in os.listdir(path):\n",
    "            img = cv2.imread(os.path.join(folder,label, images))[...,::-1]\n",
    "            img = cv2.resize(img, (size, size))\n",
    "            img = img.astype('float16')\n",
    "            img /= 255\n",
    "            data.append(img)\n",
    "            category = np.zeros(5)\n",
    "            category[x] = 1\n",
    "            Ycat_test.append(category)\n",
    "            if label == 'COVID_test':\n",
    "                Ybin_test.append(1)\n",
    "            else:\n",
    "                Ybin_test.append(0)\n",
    "        x = x + 1\n",
    "    return data"
   ]
  },
  {
   "cell_type": "code",
   "execution_count": null,
   "metadata": {},
   "outputs": [],
   "source": [
    "Xdata_test = get_testData('',Ycat_test, Ybin_test)\n",
    "random.seed(151)\n",
    "Xdata_test = random.sample(Xdata_test,len(Xdata_test))\n",
    "random.seed(151)\n",
    "Ycat_test=random.sample(Ycat_test,len(Ycat_test))\n",
    "random.seed(151)\n",
    "Ybin_test=random.sample(Ybin_test,len(Ybin_test))\n",
    "X_test = np.array(Xdata_test)\n",
    "Ycat_test = np.array(Ycat_test)\n",
    "Ybin_test = np.array(Ybin_test)"
   ]
  },
  {
   "cell_type": "markdown",
   "metadata": {},
   "source": [
    "Binárna klasifikácia"
   ]
  },
  {
   "cell_type": "code",
   "execution_count": null,
   "metadata": {},
   "outputs": [],
   "source": [
    "modelBinary = Sequential()\n",
    "\n",
    "modelBinary.add(Conv2D(32,3,padding=\"same\", activation=\"relu\", input_shape=(256,256,3)))\n",
    "modelBinary.add(MaxPool2D())\n",
    "\n",
    "modelBinary.add(Conv2D(64,3,padding=\"same\", activation=\"relu\", input_shape=(256,256,3)))\n",
    "modelBinary.add(MaxPool2D())\n",
    "\n",
    "modelBinary.add(Conv2D(64,3,padding=\"same\", activation=\"relu\", input_shape=(256,256,3)))\n",
    "modelBinary.add(MaxPool2D())\n",
    "\n",
    "modelBinary.add(Dropout(0.2))\n",
    "\n",
    "modelBinary.add(Flatten())\n",
    "modelBinary.add(Dense(128,activation=\"relu\"))\n",
    "modelBinary.add(Dense(1, activation=\"sigmoid\"))\n",
    "\n",
    "modelBinary.summary() "
   ]
  },
  {
   "cell_type": "code",
   "execution_count": null,
   "metadata": {},
   "outputs": [],
   "source": [
    "adam = Adam()\n",
    "modelBinary.compile(optimizer='Adam', loss='binary_crossentropy', metrics=['accuracy'])"
   ]
  },
  {
   "cell_type": "code",
   "execution_count": null,
   "metadata": {},
   "outputs": [],
   "source": [
    "history = modelBinary.fit(X_train, Ybin_train,epochs=4, validation_data=(X_test, Ybin_test))"
   ]
  },
  {
   "cell_type": "code",
   "execution_count": null,
   "metadata": {},
   "outputs": [],
   "source": [
    "acc = history.history['accuracy']\n",
    "val_acc = history.history['val_accuracy']\n",
    "loss = history.history['loss']\n",
    "val_loss = history.history['val_loss']\n",
    "\n",
    "epochs_range = range(4)\n",
    "\n",
    "plt.figure(figsize=(10, 10))\n",
    "plt.subplot(2, 2, 1)\n",
    "plt.plot(epochs_range, acc, label='Training Accuracy')\n",
    "plt.plot(epochs_range, val_acc, label='Validation Accuracy')\n",
    "plt.legend(loc='lower right')\n",
    "plt.title('Training and Validation Accuracy')\n",
    "\n",
    "plt.subplot(2, 2, 2)\n",
    "plt.plot(epochs_range, loss, label='Training Loss')\n",
    "plt.plot(epochs_range, val_loss, label='Validation Loss')\n",
    "plt.legend(loc='upper right')\n",
    "plt.title('Training and Validation Loss')\n",
    "plt.show()"
   ]
  },
  {
   "cell_type": "code",
   "execution_count": null,
   "metadata": {},
   "outputs": [],
   "source": [
    "predictions = model.predict(X_test)\n",
    "pred = [int(round(x[0])) for x in predictions]"
   ]
  },
  {
   "cell_type": "code",
   "execution_count": null,
   "metadata": {},
   "outputs": [],
   "source": [
    "print(\"Accuracy score:\",round(accuracy_score(Ybin_test, pred),4))\n",
    "print(\"Number of correctly classified samples:\",accuracy_score(Ybin_test, pred, normalize=False))\n",
    "print(classification_report(Ybin_test, pred, target_names = ['Non-COVID (Class 0)','COVID (Class 1)']))"
   ]
  },
  {
   "cell_type": "code",
   "execution_count": null,
   "metadata": {},
   "outputs": [],
   "source": [
    "print('Confusion matrix : \\n')\n",
    "print(confusion_matrix(Ybin_test, pred)) #(actual, predicted)\n",
    "ax = sns.heatmap(confusion_matrix(Ybin_test, pred), annot = True, fmt = 'g' ,vmin = 0, vmax = 2000,cmap = 'Blues')"
   ]
  },
  {
   "cell_type": "markdown",
   "metadata": {},
   "source": [
    "Categorical"
   ]
  },
  {
   "cell_type": "code",
   "execution_count": null,
   "metadata": {},
   "outputs": [],
   "source": [
    "modelCat = Sequential()\n",
    "\n",
    "modelCat.add(Conv2D(32, kernel_size=(3,3), activation='relu', input_shape=(256,256,3)))\n",
    "modelCat.add(MaxPool2D())\n",
    "\n",
    "modelCat.add(Conv2D(32, kernel_size=(3,3), activation='relu', input_shape=(256,256,3)))\n",
    "modelCat.add(MaxPool2D())\n",
    "\n",
    "modelCat.add(Conv2D(64, kernel_size=(3,3), activation='relu', input_shape=(256,256,3)))\n",
    "modelCat.add(MaxPool2D())\n",
    "\n",
    "modelCat.add(Dropout(0.2))\n",
    "\n",
    "modelCat.add(Conv2D(32, kernel_size=(3,3), activation='relu', input_shape=(256,256,3)))\n",
    "modelCat.add(MaxPool2D())\n",
    "\n",
    "modelCat.add(Flatten())\n",
    "modelCat.add(Dense(128, activation='relu'))\n",
    "modelCat.add(Dense(5, activation='softmax'))\n",
    "\n",
    "modelCat.summary() "
   ]
  },
  {
   "cell_type": "code",
   "execution_count": null,
   "metadata": {},
   "outputs": [],
   "source": [
    "adam = Adam()\n",
    "modelCat.compile(loss='categorical_crossentropy', optimizer=adam, metrics=['accuracy'])"
   ]
  },
  {
   "cell_type": "code",
   "execution_count": null,
   "metadata": {},
   "outputs": [],
   "source": [
    "f = modelCat.fit(X_train, Ycat_train, epochs = 4, validation_data=(X_test, Ycat_test))"
   ]
  },
  {
   "cell_type": "code",
   "execution_count": null,
   "metadata": {},
   "outputs": [],
   "source": [
    "acc = f.history['accuracy']\n",
    "val_acc = f.history['val_accuracy']\n",
    "loss = f.history['loss']\n",
    "val_loss = f.history['val_loss']\n",
    "\n",
    "epochs_range = range(4)\n",
    "\n",
    "plt.figure(figsize=(15, 15))\n",
    "plt.subplot(2, 2, 1)\n",
    "plt.plot(epochs_range, acc, label='Training Accuracy')\n",
    "plt.plot(epochs_range, val_acc, label='Validation Accuracy')\n",
    "plt.legend(loc='lower right')\n",
    "plt.title('Training and Validation Accuracy')\n",
    "\n",
    "plt.subplot(2, 2, 2)\n",
    "plt.plot(epochs_range, loss, label='Training Loss')\n",
    "plt.plot(epochs_range, val_loss, label='Validation Loss')\n",
    "plt.legend(loc='upper right')\n",
    "plt.title('Training and Validation Loss')\n",
    "plt.show()"
   ]
  },
  {
   "cell_type": "code",
   "execution_count": null,
   "metadata": {},
   "outputs": [],
   "source": [
    "predictions = modelCat.predict(X_test)\n",
    "predicted = np.argmax(predictions, axis = 1)\n",
    "Ycat_test=np.argmax(Ycat_test, axis=1)"
   ]
  },
  {
   "cell_type": "code",
   "execution_count": null,
   "metadata": {},
   "outputs": [],
   "source": [
    "print(pd.crosstab(Ycat_test, predicted))\n",
    "ax = sns.heatmap(confusion_matrix(Ycat_test, predicted), annot = True, vmin = 0, vmax = 2000,fmt = 'g',cmap = 'Blues')"
   ]
  },
  {
   "cell_type": "code",
   "execution_count": null,
   "metadata": {},
   "outputs": [],
   "source": [
    "print(\"Accuracy score:\",round(accuracy_score(Ycat_test, predicted),4))\n",
    "print(\"Number of correctly classified samples:\",accuracy_score(Ycat_test, predicted, normalize=False))\n",
    "print(classification_report(Ycat_test, predicted))"
   ]
  }
 ],
 "metadata": {
  "kernelspec": {
   "display_name": "Python 3",
   "language": "python",
   "name": "python3"
  },
  "language_info": {
   "codemirror_mode": {
    "name": "ipython",
    "version": 3
   },
   "file_extension": ".py",
   "mimetype": "text/x-python",
   "name": "python",
   "nbconvert_exporter": "python",
   "pygments_lexer": "ipython3",
   "version": "3.8.5"
  }
 },
 "nbformat": 4,
 "nbformat_minor": 4
}
