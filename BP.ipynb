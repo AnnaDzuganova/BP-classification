{
 "cells": [
  {
   "cell_type": "code",
   "execution_count": 1,
   "metadata": {},
   "outputs": [],
   "source": [
    "import matplotlib.pyplot as plt\n",
    "%matplotlib inline\n",
    "import numpy as np\n",
    "import pandas as pd\n",
    "import seaborn as sns\n",
    "from PIL import Image \n",
    "import os\n",
    "import random\n",
    "import cv2\n",
    "\n",
    "import keras \n",
    "from sklearn.model_selection import train_test_split \n",
    "from tensorflow.keras import utils\n",
    "\n",
    "from keras.models import Sequential \n",
    "from keras.layers import Conv2D, MaxPooling2D \n",
    "from keras.layers import Dense, Dropout \n",
    "from keras.layers import Flatten, BatchNormalization"
   ]
  },
  {
   "cell_type": "code",
   "execution_count": null,
   "metadata": {},
   "outputs": [],
   "source": [
    "!pip install -U six numpy wheel\n",
    "!pip install -U keras_preprocessing --no-deps"
   ]
  },
  {
   "cell_type": "code",
   "execution_count": null,
   "metadata": {},
   "outputs": [],
   "source": [
    "#read_file = pd.read_excel(r'C:\\Users\\anndz\\Desktop\\BP\\COVID.metadata.xlsx')\n",
    "#read_file.to_csv(r'C:\\Users\\anndz\\Desktop\\BP\\COVID.metadata.csv', index = None, header=True)\n",
    "#COVID = read_file"
   ]
  },
  {
   "cell_type": "markdown",
   "metadata": {},
   "source": [
    "Analyza"
   ]
  },
  {
   "cell_type": "code",
   "execution_count": null,
   "metadata": {},
   "outputs": [],
   "source": [
    "Normal = pd.read_csv(\"Normal.metadata.csv\")\n",
    "COVID = pd.read_csv(\"COVID.metadata.csv\")\n",
    "Lung_opacity = pd.read_csv(\"Lung_Opacity.metadata.csv\")\n",
    "Pneumonia = pd.read_csv(\"Viral Pneumonia.metadata.csv\")\n",
    "Tuberculosis = pd.read_csv(\"Tuberculosis.metadata.csv\")"
   ]
  },
  {
   "cell_type": "code",
   "execution_count": null,
   "metadata": {},
   "outputs": [],
   "source": [
    "Normal['Diagnoza'] = '0'\n",
    "Normal['COVID'] = '0'\n",
    "COVID['Diagnoza'] = '1'\n",
    "COVID['COVID'] = '1'\n",
    "Lung_opacity['Diagnoza'] = '2'\n",
    "Lung_opacity['COVID'] = '0'\n",
    "Pneumonia['Diagnoza'] = '3'\n",
    "Pneumonia['COVID'] = '0'\n",
    "Tuberculosis['Diagnoza'] = '4'\n",
    "Tuberculosis['COVID'] = '0'\n",
    "Tuberculosis['SIZE'] = '256*256'"
   ]
  },
  {
   "cell_type": "code",
   "execution_count": null,
   "metadata": {},
   "outputs": [],
   "source": [
    "data = pd.concat([Normal,COVID,Lung_opacity,Pneumonia,Tuberculosis])"
   ]
  },
  {
   "cell_type": "code",
   "execution_count": null,
   "metadata": {},
   "outputs": [],
   "source": [
    "data.tail()"
   ]
  },
  {
   "cell_type": "code",
   "execution_count": null,
   "metadata": {},
   "outputs": [],
   "source": [
    "data['Diagnoza']= data['Diagnoza'].astype(object)\n",
    "data['COVID']= data['COVID'].astype(object)"
   ]
  },
  {
   "cell_type": "code",
   "execution_count": null,
   "metadata": {},
   "outputs": [],
   "source": [
    "V = data['Diagnoza'].value_counts().index.tolist()\n",
    "VC = data['Diagnoza'].value_counts()\n",
    "sns.barplot(x= V, y = VC)"
   ]
  },
  {
   "cell_type": "code",
   "execution_count": null,
   "metadata": {},
   "outputs": [],
   "source": [
    "V = data['COVID'].value_counts().index.tolist()\n",
    "VC = data['COVID'].value_counts()\n",
    "sns.barplot(x= V, y = VC)"
   ]
  },
  {
   "cell_type": "code",
   "execution_count": null,
   "metadata": {},
   "outputs": [],
   "source": [
    "#path = 'Resized_Tuberculosis'\n",
    "#if not os.path.exists(path):\n",
    "#    os.makedirs(path)\n",
    "    \n",
    "#for filename in glob.glob('Tuberculosis/*.png'):\n",
    "#    img = Image.open(filename).convert('RGB').resize((256,256))\n",
    "#    img.save('{}{}{}'.format(path,'/',os.path.split(filename)[1]))"
   ]
  },
  {
   "cell_type": "markdown",
   "metadata": {},
   "source": [
    "Predspracovanie"
   ]
  },
  {
   "cell_type": "code",
   "execution_count": 2,
   "metadata": {},
   "outputs": [],
   "source": [
    "Ycat = []\n",
    "Ybin = []\n",
    "#labels = ['Normal', 'Lung_Opacity','Viral Pneumonia','Tuberculosis']\n",
    "labels = ['Normal', 'Lung_Opacity','Viral Pneumonia','Tuberculosis','COVID']\n",
    "size = 256\n",
    "\n",
    "def get_data(folder, Ycat, Ybin):\n",
    "    x = 0\n",
    "    data = []\n",
    "    for label in labels: \n",
    "        path = os.path.join(folder, label)\n",
    "        for images in os.listdir(path):\n",
    "            img = cv2.imread(os.path.join(folder,label, images))[...,::-1]\n",
    "            img = cv2.resize(img, (size, size))\n",
    "            img = img.astype('float16')\n",
    "            img /= 255\n",
    "            data.append(img)\n",
    "            Ycat.append(label)\n",
    "            if label == 'COVID':\n",
    "                Ybin.append(1)\n",
    "            else:\n",
    "                Ybin.append(0)\n",
    "        x = x + 1\n",
    "    return data"
   ]
  },
  {
   "cell_type": "code",
   "execution_count": 3,
   "metadata": {},
   "outputs": [],
   "source": [
    "Xdata = get_data('',Ycat, Ybin)"
   ]
  },
  {
   "cell_type": "code",
   "execution_count": null,
   "metadata": {},
   "outputs": [],
   "source": [
    "plt.imshow(Xdata[1], cmap='gray')\n",
    "print(Ycat[1],Ybin[1])"
   ]
  },
  {
   "cell_type": "code",
   "execution_count": null,
   "metadata": {},
   "outputs": [],
   "source": [
    "#Xdata = Xdata.sample(n=len(Xdata), random_state=1242)\n",
    "#Ycat = Ycat.sample(n=len(Ycat), random_state=1242)\n",
    "random.seed(151)\n",
    "Xdata = random.sample(Xdata,len(Xdata))\n",
    "random.seed(151)\n",
    "Ycat=random.sample(Ycat,len(Ycat))\n",
    "X = np.array(Xdata)"
   ]
  },
  {
   "cell_type": "code",
   "execution_count": null,
   "metadata": {},
   "outputs": [],
   "source": [
    "#Xdata = Xdata.astype(\"float16\") / 255.0\n",
    "#X = np.array(Xdata)"
   ]
  },
  {
   "cell_type": "code",
   "execution_count": null,
   "metadata": {},
   "outputs": [],
   "source": [
    "#X = X.sample(n=len(X), random_state=1242)\n",
    "#Ycat = Ycat.sample(n=len(Ycat), random_state=1242)"
   ]
  },
  {
   "cell_type": "code",
   "execution_count": null,
   "metadata": {},
   "outputs": [],
   "source": [
    "Ycat = utils.to_categorical(Ycat, 5)"
   ]
  },
  {
   "cell_type": "code",
   "execution_count": 5,
   "metadata": {},
   "outputs": [],
   "source": [
    "x_train, x_test, y_train, y_test = train_test_split(X, Ycat, test_size=0.3, random_state=1)"
   ]
  },
  {
   "cell_type": "code",
   "execution_count": 6,
   "metadata": {},
   "outputs": [
    {
     "name": "stdout",
     "output_type": "stream",
     "text": [
      "(15305, 256, 256, 3) (6560, 256, 256, 3)\n"
     ]
    }
   ],
   "source": [
    "print(x_train.shape, x_test.shape)"
   ]
  },
  {
   "cell_type": "code",
   "execution_count": null,
   "metadata": {},
   "outputs": [],
   "source": [
    "model = Sequential()\n",
    "\n",
    "\n",
    "model.summary()"
   ]
  },
  {
   "cell_type": "code",
   "execution_count": null,
   "metadata": {},
   "outputs": [],
   "source": []
  },
  {
   "cell_type": "code",
   "execution_count": null,
   "metadata": {},
   "outputs": [],
   "source": []
  },
  {
   "cell_type": "code",
   "execution_count": null,
   "metadata": {},
   "outputs": [],
   "source": []
  }
 ],
 "metadata": {
  "kernelspec": {
   "display_name": "Python 3",
   "language": "python",
   "name": "python3"
  },
  "language_info": {
   "codemirror_mode": {
    "name": "ipython",
    "version": 3
   },
   "file_extension": ".py",
   "mimetype": "text/x-python",
   "name": "python",
   "nbconvert_exporter": "python",
   "pygments_lexer": "ipython3",
   "version": "3.8.5"
  }
 },
 "nbformat": 4,
 "nbformat_minor": 4
}
